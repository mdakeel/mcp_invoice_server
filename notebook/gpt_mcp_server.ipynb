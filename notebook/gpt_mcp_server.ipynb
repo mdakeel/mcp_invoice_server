{
 "cells": [
  {
   "cell_type": "markdown",
   "id": "40dda327",
   "metadata": {},
   "source": [
    "# Processing Invoices Using Box MCP Server"
   ]
  },
  {
   "cell_type": "code",
   "execution_count": 2,
   "id": "5a523ecb",
   "metadata": {},
   "outputs": [],
   "source": [
    "import warnings\n",
    "warnings.filterwarnings('ignore')"
   ]
  },
  {
   "cell_type": "code",
   "execution_count": 3,
   "id": "5764c2d1",
   "metadata": {},
   "outputs": [
    {
     "data": {
      "text/plain": [
       "True"
      ]
     },
     "execution_count": 3,
     "metadata": {},
     "output_type": "execute_result"
    }
   ],
   "source": [
    "import os\n",
    "import json\n",
    "import sqlite3\n",
    "import warnings\n",
    "from dotenv import load_dotenv\n",
    "from openai import OpenAI\n",
    "\n",
    "load_dotenv(override=True)\n"
   ]
  },
  {
   "cell_type": "code",
   "execution_count": null,
   "id": "721d5d94",
   "metadata": {},
   "outputs": [],
   "source": [
    "# Load API key and model\n",
    "OPENAI_API_KEY = os.getenv(\"OPENAI_API_KEY\")\n",
    "MODEL_NAME = \"gpt-4\""
   ]
  },
  {
   "cell_type": "code",
   "execution_count": 13,
   "id": "873aea77",
   "metadata": {},
   "outputs": [],
   "source": [
    "# Initialize GPT client\n",
    "openai_client = OpenAI(api_key=OPENAI_API_KEY)\n",
    "\n",
    "# Local invoice folder\n",
    "LOCAL_INVOICE_FOLDER = \"../data/invoices\""
   ]
  },
  {
   "cell_type": "markdown",
   "id": "6989e136",
   "metadata": {},
   "source": [
    "# Helper: Parse JSON from GPT response"
   ]
  },
  {
   "cell_type": "code",
   "execution_count": null,
   "id": "e3a863ac",
   "metadata": {},
   "outputs": [],
   "source": [
    "from PyPDF2 import PdfReader\n",
    "import re\n",
    "\n",
    "def parse_json(content):\n",
    "    try:\n",
    "        return json.loads(content)\n",
    "    except json.JSONDecodeError:\n",
    "        match = re.search(r\"\\{.*\\}\", content, re.DOTALL)\n",
    "        if match:\n",
    "            try:\n",
    "                return json.loads(match.group())\n",
    "            except json.JSONDecodeError:\n",
    "                pass\n",
    "    return {\"error\": \"Failed to parse JSON\", \"raw\": content}"
   ]
  },
  {
   "cell_type": "markdown",
   "id": "6a5ad9ed",
   "metadata": {},
   "source": [
    "# GPT-based invoice extractor"
   ]
  },
  {
   "cell_type": "code",
   "execution_count": 9,
   "id": "7872e157",
   "metadata": {},
   "outputs": [],
   "source": [
    "\n",
    "def extract_invoice_fields(file_path: str, file_name: str):\n",
    "    print(f\"Processing invoice: {file_name}\")\n",
    "    \n",
    "    # Extract text from PDF\n",
    "    reader = PdfReader(file_path)\n",
    "    text = \"\"\n",
    "    for page in reader.pages:\n",
    "        text += page.extract_text() or \"\"\n",
    "\n",
    "    # GPT prompt\n",
    "    prompt = (\n",
    "        \"Extract the following fields from this invoice:\\n\"\n",
    "        \"1. client_name (string)\\n\"\n",
    "        \"2. invoice_amount (float)\\n\"\n",
    "        \"3. product_name (string)\\n\"\n",
    "        \"Return result as a JSON object.\\n\\n\"\n",
    "        f\"Invoice text:\\n{text}\"\n",
    "    )\n",
    "\n",
    "    # GPT call\n",
    "    response = openai_client.chat.completions.create(\n",
    "        model=MODEL_NAME,\n",
    "        messages=[{\"role\": \"user\", \"content\": prompt}],\n",
    "        temperature=0,\n",
    "    )\n",
    "\n",
    "    result = parse_json(response.choices[0].message.content)\n",
    "    result[\"file\"] = file_name\n",
    "    print(json.dumps(result, indent=4))\n",
    "    return result"
   ]
  },
  {
   "cell_type": "markdown",
   "id": "76d34e43",
   "metadata": {},
   "source": [
    "# SQLite Database Setup + Insert"
   ]
  },
  {
   "cell_type": "code",
   "execution_count": 17,
   "id": "f6f237b7",
   "metadata": {},
   "outputs": [],
   "source": [
    "# Connect to SQLite database\n",
    "os.makedirs(\"db\", exist_ok=True)\n",
    "connection = sqlite3.connect(\"db/invoices.db\")\n",
    "cursor = connection.cursor()\n",
    "\n",
    "# Create table if not exists\n",
    "cursor.execute(\"\"\"\n",
    "    CREATE TABLE IF NOT EXISTS invoices (\n",
    "        file TEXT PRIMARY KEY UNIQUE,\n",
    "        client TEXT,\n",
    "        amount REAL,\n",
    "        product TEXT\n",
    "    )\n",
    "\"\"\")\n",
    "connection.commit()\n",
    "\n",
    "# Insert or update invoice data\n",
    "def save_to_db(data: dict):\n",
    "    product_str = (\n",
    "        \", \".join(data[\"product_name\"]) if isinstance(data[\"product_name\"], list)\n",
    "        else str(data[\"product_name\"])\n",
    "    )\n",
    "    cursor.execute(\n",
    "        \"\"\"\n",
    "        INSERT INTO invoices (file, client, amount, product)\n",
    "        VALUES (?, ?, ?, ?)\n",
    "        ON CONFLICT(file) DO UPDATE SET\n",
    "            client=excluded.client,\n",
    "            amount=excluded.amount,\n",
    "            product=excluded.product\n",
    "        \"\"\",\n",
    "        (\n",
    "            data[\"file\"],\n",
    "            data[\"client_name\"],\n",
    "            data[\"invoice_amount\"],\n",
    "            product_str,  # ✅ This is the fixed part\n",
    "        ),\n",
    "    )\n",
    "    connection.commit()\n"
   ]
  },
  {
   "cell_type": "markdown",
   "id": "4d558aea",
   "metadata": {},
   "source": [
    "# Loop Through Invoices and Save to DB"
   ]
  },
  {
   "cell_type": "code",
   "execution_count": 18,
   "id": "e3257fcf",
   "metadata": {},
   "outputs": [
    {
     "name": "stdout",
     "output_type": "stream",
     "text": [
      "Processing invoice: demo-invoice-20tax-2.pdf\n",
      "{\n",
      "    \"client_name\": \"ACME Inc\",\n",
      "    \"invoice_amount\": 577271.99,\n",
      "    \"product_name\": [\n",
      "        \"SpeakerCable\",\n",
      "        \"SurroundSoundReceive\",\n",
      "        \"TelevisionM12037\",\n",
      "        \"Soundbar\",\n",
      "        \"0.1 Cable\"\n",
      "    ],\n",
      "    \"file\": \"demo-invoice-20tax-2.pdf\"\n",
      "}\n",
      "Processing invoice: demo-invoice-20tax-9.pdf\n",
      "{\n",
      "    \"client_name\": \"ACME Inc\",\n",
      "    \"invoice_amount\": 1327.27,\n",
      "    \"product_name\": [\n",
      "        \"Polyol\",\n",
      "        \"Diisocyanate\",\n",
      "        \"Carbon Dioxide\",\n",
      "        \"Laser\",\n",
      "        \"Lens\",\n",
      "        \"Oleic Acid\",\n",
      "        \"Glycerine\",\n",
      "        \"Sodium Tallowate\",\n",
      "        \"Paint Base\",\n",
      "        \"Polypropylene\",\n",
      "        \"Rubber\",\n",
      "        \"Additive\",\n",
      "        \"Pigment\",\n",
      "        \"Aluminum Silicate\",\n",
      "        \"Magnesium Silicate\",\n",
      "        \"Zinc Oxide\",\n",
      "        \"Distilled Solvent\",\n",
      "        \"Petroleum Distillate\",\n",
      "        \"Sulfur Dioxide\",\n",
      "        \"Sodium Benzoate\",\n",
      "        \"Dust cap\",\n",
      "        \"Ferrite cap\",\n",
      "        \"Cone and coil assembly\",\n",
      "        \"Cleaner\",\n",
      "        \"Polypropylene pellets\",\n",
      "        \"Polypropylene chips\",\n",
      "        \"Polypropylene blocks\",\n",
      "        \"Polypropylene slag\",\n",
      "        \"Parts Wash Solvent\",\n",
      "        \"Jar\",\n",
      "        \"Plastic Bottle \\u2013 15.2 FL Oz (450 ml)\",\n",
      "        \"Polymer\"\n",
      "    ],\n",
      "    \"file\": \"demo-invoice-20tax-9.pdf\"\n",
      "}\n",
      "Processing invoice: demo-invoice-no-tax-6.pdf\n",
      "{\n",
      "    \"client_name\": \"ACME Inc\",\n",
      "    \"invoice_amount\": 1102.82,\n",
      "    \"product_name\": [\n",
      "        \"Catalyst 1 liter\",\n",
      "        \"Resin\",\n",
      "        \"Deionized water\",\n",
      "        \"Potassium Hydroxide\",\n",
      "        \"EDTA\",\n",
      "        \"Polymer\"\n",
      "    ],\n",
      "    \"file\": \"demo-invoice-no-tax-6.pdf\"\n",
      "}\n",
      "Processing invoice: demo-invoice-no-tax-8.pdf\n",
      "{\n",
      "    \"client_name\": \"ACME Inc\",\n",
      "    \"invoice_amount\": 3949.85,\n",
      "    \"product_name\": [\n",
      "        \"Material A\",\n",
      "        \"Cement 20 lbs\",\n",
      "        \"Aluminum siding\",\n",
      "        \"Material B\"\n",
      "    ],\n",
      "    \"file\": \"demo-invoice-no-tax-8.pdf\"\n",
      "}\n",
      "Processing invoice: demo-invoice-no-tax-9.pdf\n",
      "{\n",
      "    \"client_name\": \"ACME Inc\",\n",
      "    \"invoice_amount\": 1106.06,\n",
      "    \"product_name\": [\n",
      "        \"Polyol\",\n",
      "        \"Diisocyanate\",\n",
      "        \"Carbon Dioxide\",\n",
      "        \"Laser\",\n",
      "        \"Lens\",\n",
      "        \"Oleic Acid\",\n",
      "        \"Glycerine\",\n",
      "        \"Sodium Tallowate\",\n",
      "        \"Paint Base\",\n",
      "        \"Polypropylene\",\n",
      "        \"Rubber\",\n",
      "        \"Additive\",\n",
      "        \"Pigment\",\n",
      "        \"Aluminum Silicate\",\n",
      "        \"Magnesium Silicate\",\n",
      "        \"Zinc Oxide\",\n",
      "        \"Distilled Solvent\",\n",
      "        \"Petroleum Distillate\",\n",
      "        \"Sulfur Dioxide\",\n",
      "        \"Sodium Benzoate\",\n",
      "        \"Dust cap\",\n",
      "        \"Ferrite cap\",\n",
      "        \"Cone and coil assembly\",\n",
      "        \"Cleaner\",\n",
      "        \"Polypropylene pellets\",\n",
      "        \"Polypropylene chips\",\n",
      "        \"Polypropylene blocks\",\n",
      "        \"Polypropylene slag\",\n",
      "        \"Parts Wash Solvent\",\n",
      "        \"Jar\",\n",
      "        \"Plastic Bottle \\u2013 15.2 FL Oz (450 ml)\",\n",
      "        \"Polymer\"\n",
      "    ],\n",
      "    \"file\": \"demo-invoice-no-tax-9.pdf\"\n",
      "}\n"
     ]
    }
   ],
   "source": [
    "# Loop through all PDF invoices\n",
    "for file_name in os.listdir(LOCAL_INVOICE_FOLDER):\n",
    "    if file_name.endswith(\".pdf\"):\n",
    "        file_path = os.path.join(LOCAL_INVOICE_FOLDER, file_name)\n",
    "        try:\n",
    "            # Extract fields using GPT\n",
    "            data = extract_invoice_fields(file_path, file_name)\n",
    "\n",
    "            # Save to database\n",
    "            save_to_db(data)\n",
    "\n",
    "        except Exception as e:\n",
    "            print(f\"Failed to process {file_name}: {e}\")\n"
   ]
  }
 ],
 "metadata": {
  "kernelspec": {
   "display_name": "Python 3",
   "language": "python",
   "name": "python3"
  },
  "language_info": {
   "codemirror_mode": {
    "name": "ipython",
    "version": 3
   },
   "file_extension": ".py",
   "mimetype": "text/x-python",
   "name": "python",
   "nbconvert_exporter": "python",
   "pygments_lexer": "ipython3",
   "version": "3.12.7"
  }
 },
 "nbformat": 4,
 "nbformat_minor": 5
}
